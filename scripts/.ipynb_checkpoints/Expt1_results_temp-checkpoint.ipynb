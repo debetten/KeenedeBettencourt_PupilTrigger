{
 "cells": [
  {
   "cell_type": "code",
   "execution_count": 21,
   "metadata": {},
   "outputs": [],
   "source": [
    "import numpy as np\n",
    "import pandas as pd\n",
    "import os\n",
    "os.chdir('prep')\n",
    "from req_fns import resampling_statistics1d, calculate_aprime, runAnalyses, likelihood_betaBinom, prettify_plot\n",
    "os.chdir('../') \n",
    "from scipy.stats import spearmanr\n",
    "import matplotlib.pyplot as plt\n",
    "from matplotlib import rc"
   ]
  },
  {
   "cell_type": "code",
   "execution_count": 22,
   "metadata": {},
   "outputs": [],
   "source": [
    "plt.rcParams.update({'font.size': 24})\n",
    "rc('text', usetex=False)\n",
    "plt.rcParams['pdf.fonttype'] = 42"
   ]
  },
  {
   "cell_type": "markdown",
   "metadata": {},
   "source": [
    "# Load files"
   ]
  },
  {
   "cell_type": "code",
   "execution_count": 23,
   "metadata": {},
   "outputs": [
    {
     "name": "stdout",
     "output_type": "stream",
     "text": [
      "/Users/megan/Dropbox/writing/articles/2020_pupil/KeenedeBettencourt_2021/scripts\n"
     ]
    }
   ],
   "source": [
    "#project directory \n",
    "base_project_dir= os.getcwd()\n",
    "print(base_project_dir)\n",
    "project_dir = '../expt1/'\n",
    "results_dir = project_dir + 'results/'\n",
    "attndat = pd.read_csv(results_dir + 'expt1_attn_results.csv')\n",
    "wmdat = pd.read_csv(results_dir + 'expt1_wm_results.csv')\n",
    "\n",
    "all_subj = np.unique(attndat.subject_num)\n",
    "nsubj = np.size(all_subj)"
   ]
  },
  {
   "cell_type": "markdown",
   "metadata": {},
   "source": [
    "# RT before lapses vs non lapses\n"
   ]
  },
  {
   "cell_type": "code",
   "execution_count": 24,
   "metadata": {},
   "outputs": [
    {
     "name": "stdout",
     "output_type": "stream",
     "text": [
      "RT before inaccurate: 324.0 +/- 40.0\n",
      "RT before accurate: 444.0 +/- 48.0\n"
     ]
    }
   ],
   "source": [
    "rttrail_inacc = np.array([ np.mean(attndat.rt_trail[np.logical_and(np.logical_and(\n",
    "    attndat.freq_trials==0,attndat.subject_num==isubj),attndat.acc!=1)])*1000 for isubj in range(nsubj)])\n",
    "rttrail_acc = np.array([ np.mean(attndat.rt_trail[np.logical_and(np.logical_and(\n",
    "    attndat.freq_trials==0,attndat.subject_num==isubj),attndat.acc==1)])*1000 for isubj in range(nsubj)])\n",
    "\n",
    "print(\"RT before inaccurate:\", np.round(np.mean(rttrail_inacc)),\"+/-\",np.round(np.std(rttrail_inacc)))\n",
    "print(\"RT before accurate:\",np.round(np.mean(rttrail_acc)),\"+/-\",np.round(np.std(rttrail_acc)))"
   ]
  },
  {
   "cell_type": "markdown",
   "metadata": {},
   "source": [
    "# Behavioral real time triggering"
   ]
  },
  {
   "cell_type": "code",
   "execution_count": 8,
   "metadata": {},
   "outputs": [
    {
     "name": "stdout",
     "output_type": "stream",
     "text": [
      "RT low 240.0 +/- 8.0\n",
      "RT high 519.0 +/- 13.0\n"
     ]
    }
   ],
   "source": [
    "#RT\n",
    "rt_trail_low = np.array([ np.mean(wmdat.rt_trail[((np.logical_and(\n",
    "    wmdat.triggered_low==1,wmdat.subject_num==isubj)))])*1000 for isubj in range(nsubj)])\n",
    "rt_trail_high = np.array([ np.mean(wmdat.rt_trail[((np.logical_and(\n",
    "    wmdat.triggered_high==1,wmdat.subject_num==isubj)))])*1000 for isubj in range(nsubj)])\n",
    "print(\"RT low\",np.round(np.mean(rt_trail_low),decimals=0),\"+/-\",np.round(np.std(rt_trail_low)/np.sqrt(nsubj),decimals=0))\n",
    "print(\"RT high\", np.round(np.mean(rt_trail_high),decimals=0),\"+/-\",np.round(np.std(rt_trail_high)/np.sqrt(nsubj),decimals=0))"
   ]
  },
  {
   "cell_type": "code",
   "execution_count": 9,
   "metadata": {},
   "outputs": [
    {
     "name": "stdout",
     "output_type": "stream",
     "text": [
      "m low 2.2 +/- 0.1\n",
      "m high 2.29 +/- 0.11\n",
      "p = 0.03\n"
     ]
    }
   ],
   "source": [
    "#working memory\n",
    "m_low = np.array([ np.mean(wmdat.wm_perf[((np.logical_and(\n",
    "    wmdat.triggered_low==1,wmdat.subject_num==isubj)))]) for isubj in range(nsubj)])\n",
    "m_high = np.array([ np.mean(wmdat.wm_perf[((np.logical_and(\n",
    "    wmdat.triggered_high==1,wmdat.subject_num==isubj)))]) for isubj in range(nsubj)])\n",
    "print(\"m low\", np.round(np.mean(m_low),decimals=2),\"+/-\",np.round(np.std(m_low)/np.sqrt(nsubj),decimals=2))\n",
    "print(\"m high\", np.round(np.mean(m_high),decimals=2),\"+/-\",np.round(np.std(m_high)/np.sqrt(nsubj),decimals=2))\n",
    "p,_ = resampling_statistics1d(m_high-m_low,0)\n",
    "print(\"p =\",np.round(p,decimals=2))"
   ]
  },
  {
   "cell_type": "code",
   "execution_count": 10,
   "metadata": {},
   "outputs": [
    {
     "name": "stdout",
     "output_type": "stream",
     "text": [
      "s trail low -9.12 +/- 5.22\n",
      "s trail high 9.05 +/- 5.45\n",
      "p = 0.04\n"
     ]
    }
   ],
   "source": [
    "#pupil size\n",
    "strail_m = np.array([ np.mean(wmdat.s_prevstim[np.logical_and(\n",
    "    wmdat.subject_num==isubj,np.logical_or(wmdat.triggered_high==1,wmdat.triggered_low==1))]) for isubj in range(nsubj)])\n",
    "strail_high = np.array([ np.mean(wmdat.s_prevstim[(np.logical_and(\n",
    "    wmdat.subject_num==isubj,wmdat.triggered_high==1))]) for isubj in range(nsubj)])\n",
    "strail_low = np.array([ np.mean(wmdat.s_prevstim[(np.logical_and(\n",
    "    wmdat.subject_num==isubj,wmdat.triggered_low==1))]) for isubj in range(nsubj)])\n",
    "print(\"s trail low\", np.round(np.mean(strail_low-strail_m,axis=0),decimals=2),\"+/-\",\n",
    "      np.round(np.std(strail_low-strail_m,axis=0)/np.sqrt(nsubj),decimals=2))\n",
    "print(\"s trail high\", np.round(np.mean(strail_high-strail_m,axis=0),decimals=2),\"+/-\",\n",
    "      np.round(np.std(strail_high-strail_m,axis=0)/np.sqrt(nsubj),decimals=2))\n",
    "p,_ = resampling_statistics1d(strail_high-strail_low,0)\n",
    "print(\"p =\",np.round(p,decimals=2))"
   ]
  },
  {
   "cell_type": "code",
   "execution_count": 11,
   "metadata": {},
   "outputs": [
    {
     "name": "stdout",
     "output_type": "stream",
     "text": [
      "s trail low -13.96 +/- 5.67\n",
      "s trail high 14.67 +/- 6.41\n",
      "p = 0.008\n"
     ]
    }
   ],
   "source": [
    "#pupil size, after artifact rejecting\n",
    "strail_m = np.array([ np.mean(wmdat.s_prevstim[np.logical_and(np.logical_and(\n",
    "    wmdat.subject_num==isubj,np.logical_or(wmdat.triggered_high==1,\n",
    "    wmdat.triggered_low==1)),wmdat.arf==0)]) for isubj in range(nsubj)])\n",
    "strail_high = np.array([ np.mean(wmdat.s_prevstim[np.logical_and(np.logical_and(\n",
    "    wmdat.subject_num==isubj,wmdat.triggered_high==1),wmdat.arf==0)]) for isubj in range(nsubj)])\n",
    "strail_low = np.array([ np.mean(wmdat.s_prevstim[np.logical_and(np.logical_and(\n",
    "    wmdat.subject_num==isubj,wmdat.triggered_low==1),wmdat.arf==0)]) for isubj in range(nsubj)])\n",
    "print(\"s trail low\", np.round(np.mean(strail_low-strail_m,axis=0),decimals=2),\"+/-\",\n",
    "      np.round(np.std(strail_low-strail_m,axis=0)/np.sqrt(nsubj),decimals=2))\n",
    "print(\"s trail high\", np.round(np.mean(strail_high-strail_m,axis=0),decimals=2),\"+/-\",\n",
    "      np.round(np.std(strail_high-strail_m,axis=0)/np.sqrt(nsubj),decimals=2))\n",
    "p,_ = resampling_statistics1d(strail_high-strail_low,0)\n",
    "print(\"p =\",np.round(p,decimals=3))"
   ]
  },
  {
   "cell_type": "code",
   "execution_count": 55,
   "metadata": {},
   "outputs": [],
   "source": [
    "import matplotlib.pyplot as plt\n",
    "import matplotlib.font_manager as fm\n",
    "from matplotlib import rc"
   ]
  },
  {
   "cell_type": "code",
   "execution_count": 58,
   "metadata": {},
   "outputs": [],
   "source": [
    "def prettify_plot(ax,\n",
    "\t\t\t\t\t xlim=None,xt=None,xtl=None,xl=None,xaxoffset=None,\n",
    "\t\t\t\t\t ylim=None,yt=None,ytl=None,yl=None,ylrot=None,yaxoffset=None,\n",
    "\t\t\t\t\t t=None,legend=None,legendloc=None):\n",
    "    '''\n",
    "    This is a plotting script that makes the default matplotlib plots a little prettier\n",
    "    '''\n",
    "\n",
    "    if os.path.isfile(\"/Library/Fonts/HelveticaNeue-Light.ttf\"): \n",
    "        prop_light = fm.FontProperties(fname='/Library/Fonts/HelveticaNeue-Light.ttf')    \n",
    "    else: \n",
    "        prop_light = fm.FontProperties()\n",
    "\n",
    "    if os.path.isfile(\"/Library/Fonts/HelveticaNeue-Light.ttf\"): \n",
    "        prop_reg = fm.FontProperties(fname='/Library/Fonts/HelveticaNeue-Light.ttf')    \n",
    "    else: \n",
    "        prop_reg = fm.FontProperties()\n",
    "\n",
    "    ax.spines['bottom'].set_linewidth(1)\n",
    "    ax.spines['bottom'].set_color(\"gray\")\n",
    "    if xaxoffset is not None: ax.spines['bottom'].set_position(('outward', 10))\n",
    "    if yaxoffset is not None: ax.spines['left'].set_position(('outward', 10))\n",
    "\n",
    "    ax.spines['left'].set_linewidth(1)\n",
    "    ax.spines['left'].set_color(\"gray\")\n",
    "    ax.spines['top'].set_visible(False)\n",
    "    ax.spines['right'].set_visible(False)\n",
    "\n",
    "    ax.yaxis.set_ticks_position(\"left\")   \n",
    "    ax.tick_params(axis='y',direction='out',length=5,width=1,color='gray')\n",
    "    ax.xaxis.set_ticks_position(\"bottom\") \n",
    "    ax.tick_params(axis='x',direction='out',length=5,width=1,color='gray')\n",
    "    \n",
    "    if yt is not None: ax.set_yticks(yt)\n",
    "    if ytl is not None: ax.set_yticklabels((ytl),fontsize=28,fontproperties=prop_light) \n",
    "    if yl is not None: h = ax.set_ylabel(yl,fontsize=36,fontproperties=prop_reg,labelpad=12)\n",
    "    if ylim is not None: ax.set_ylim(ylim) \n",
    "        \n",
    "    if xt is not None: ax.set_xticks(xt)\n",
    "    if xtl is not None: ax.set_xticklabels((xtl),fontsize=28,fontproperties=prop_light,horizontalalignment='center')\n",
    "    if xl is not None: ax.set_xlabel(xl,fontsize=36,fontproperties=prop_reg,labelpad=12)\n",
    "    if xlim is not None: ax.set_xlim(xlim)\n",
    "    \n",
    "\n",
    "    if t is not None: ax.set_title(t,y=1.08,fontsize=36,fontproperties=prop_reg)\n",
    "    if legend is not None: \n",
    "        if legendloc is None: L = ax.legend(loc='center left', bbox_to_anchor=(0,.85))\n",
    "        else: L = ax.legend(loc='center right', bbox_to_anchor=legendloc)\n",
    "        plt.setp(L.texts,fontsize='large',fontproperties=prop)\n",
    "    ax.tick_params(axis='both',pad=10)\n",
    "\n",
    "    for t in ax.get_xticklabels():    #get_xticklabels will get you the label objects, same for y\n",
    "        t.set_fontsize(28)\n",
    "    for t in ax.get_yticklabels():\n",
    "        t.set_fontsize(28)\n",
    "    ax.yaxis.label.set_size(32)\n",
    "    ax.xaxis.label.set_size(32)\n",
    "\n",
    "    plt.locator_params(nbins=8)\n",
    "    plt.tight_layout()"
   ]
  },
  {
   "cell_type": "code",
   "execution_count": 59,
   "metadata": {},
   "outputs": [
    {
     "data": {
      "image/png": "[encoded data removed]",
      "text/plain": [
       "<Figure size 324x432 with 1 Axes>"
      ]
     },
     "metadata": {
      "needs_background": "light"
     },
     "output_type": "display_data"
    }
   ],
   "source": [
    "fig,ax = plt.subplots(1,1,figsize=(4.5,6))\n",
    "ax.plot([-.75,1.75],[0,0],'--',color='gray')\n",
    "\n",
    "clow=[60/255.,83/255.,164/255.]\n",
    "chigh=[221/255.,9/255.,141/255.]\n",
    "ax.bar(0,np.mean(strail_low-strail_m),facecolor='None',edgecolor=clow,lw=3)\n",
    "ax.errorbar(0,np.mean(strail_low-strail_m),np.std(strail_low-strail_m)/np.sqrt(nsubj),color=clow,capsize=8,capthick=3,lw=3)\n",
    "ax.scatter(np.zeros(nsubj),(strail_low-strail_m),color='k',alpha=.25)\n",
    "\n",
    "ax.bar(1,np.mean(strail_high-strail_m),facecolor='None',edgecolor=chigh,lw=3)\n",
    "ax.errorbar(1,np.mean(strail_high-strail_m),np.std(strail_high-strail_m)/np.sqrt(nsubj),color=chigh,capsize=8,capthick=3,lw=3)\n",
    "ax.scatter(np.ones(nsubj),(strail_high-strail_m),color='k',alpha=.25)\n",
    "\n",
    "prettify_plot(ax,xlim=[-.75,1.75],xt=[0,1],xtl=['Low','High'],\n",
    "                 ylim=[-100,100],yt=[-100,-50,0,50,100],ytl=[-100,-50,0,50,100],yl='Pupil size (demeaned)')\n",
    "\n",
    "fig.savefig('/Users/megan/Dropbox/presentations/20210111_imb/pupilsize_pretrigger.pdf')"
   ]
  },
  {
   "cell_type": "code",
   "execution_count": 17,
   "metadata": {},
   "outputs": [
    {
     "data": {
      "text/plain": [
       "array([ 35.33960777,  13.24914204, -41.91075565,  79.71381012,\n",
       "         3.60445646, -20.9111692 ,  22.66984499, 107.85047845,\n",
       "        -8.18349736,  53.78919927,  18.27770842,  46.19691731,\n",
       "        30.23148036, -48.34141626,  47.09170444,  17.26739434,\n",
       "        26.78773336,  53.82247433,   8.39810205,  15.58252908,\n",
       "        12.10561659,  -3.15444047,  27.07931733, -51.14933119,\n",
       "       -12.93599667, -24.63372617,  13.9325764 ,  38.61862192,\n",
       "       -10.17060121, -10.110541  ])"
      ]
     },
     "execution_count": 17,
     "metadata": {},
     "output_type": "execute_result"
    }
   ],
   "source": [
    "strail_high-strail_m"
   ]
  },
  {
   "cell_type": "code",
   "execution_count": null,
   "metadata": {},
   "outputs": [],
   "source": []
  }
 ],
 "metadata": {
  "kernelspec": {
   "display_name": "Python 3",
   "language": "python",
   "name": "python3"
  },
  "language_info": {
   "codemirror_mode": {
    "name": "ipython",
    "version": 3
   },
   "file_extension": ".py",
   "mimetype": "text/x-python",
   "name": "python",
   "nbconvert_exporter": "python",
   "pygments_lexer": "ipython3",
   "version": "3.7.7"
  }
 },
 "nbformat": 4,
 "nbformat_minor": 2
}
